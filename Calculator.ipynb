{
 "cells": [
  {
   "cell_type": "code",
   "execution_count": null,
   "id": "28340434-b663-4444-8814-bbcf562ddf0b",
   "metadata": {},
   "outputs": [],
   "source": [
    "# Function to perform basic arithmetic operations\n",
    "def calculate(num1, num2, operation):\n",
    "    if operation == '+':\n",
    "        return num1 + num2\n",
    "    elif operation == '-':\n",
    "        return num1 - num2\n",
    "    elif operation == '*':\n",
    "        return num1 * num2\n",
    "    elif operation == '/':\n",
    "        if num2 != 0:\n",
    "            return num1 / num2\n",
    "        else:\n",
    "            return \"Error: Division by zero\"\n",
    "    else:\n",
    "        return \"Invalid operation\"\n",
    "\n",
    "# Main code\n",
    "try:\n",
    "    # Prompting user for input\n",
    "    number1 = float(input(\"Enter the first number: \"))\n",
    "    number2 = float(input(\"Enter the second number: \"))\n",
    "    operation = input(\"Enter the operation (+, -, *, /): \")\n",
    "\n",
    "    # Performing calculation\n",
    "    result = calculate(number1, number2, operation)\n",
    "\n",
    "    # Displaying the result\n",
    "    print(f\"The result is: {result}\")\n",
    "\n",
    "except ValueError:\n",
    "    print(\"Invalid input. Please enter numeric values for numbers.\")\n"
   ]
  }
 ],
 "metadata": {
  "kernelspec": {
   "display_name": "Python 3 (ipykernel)",
   "language": "python",
   "name": "python3"
  },
  "language_info": {
   "codemirror_mode": {
    "name": "ipython",
    "version": 3
   },
   "file_extension": ".py",
   "mimetype": "text/x-python",
   "name": "python",
   "nbconvert_exporter": "python",
   "pygments_lexer": "ipython3",
   "version": "3.11.7"
  }
 },
 "nbformat": 4,
 "nbformat_minor": 5
}
